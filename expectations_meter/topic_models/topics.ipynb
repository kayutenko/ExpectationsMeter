{
 "cells": [
  {
   "cell_type": "code",
   "execution_count": 1,
   "metadata": {
    "collapsed": true
   },
   "outputs": [
    {
     "name": "stderr",
     "output_type": "stream",
     "text": [
      "C:\\Anaconda3\\lib\\site-packages\\gensim\\utils.py:860: UserWarning: detected Windows; aliasing chunkize to chunkize_serial\n  warnings.warn(\"detected Windows; aliasing chunkize to chunkize_serial\")\n"
     ]
    }
   ],
   "source": [
    "import numpy as np\n",
    "import nltk\n",
    "import re\n",
    "from time import time\n",
    "from gensim import corpora, models, similarities\n",
    "from itertools import chain\n",
    "from _datetime import datetime\n",
    "from lxml import etree\n",
    "import json\n",
    "from nltk.corpus import stopwords\n",
    "from nltk.stem import WordNetLemmatizer\n",
    "from math import log\n",
    "from pprint import pprint as pp\n",
    "from string import punctuation\n",
    "from collections import defaultdict, deque\n",
    "import pandas as pd\n",
    "import numpy"
   ]
  },
  {
   "cell_type": "code",
   "execution_count": 2,
   "metadata": {
    "collapsed": true
   },
   "outputs": [],
   "source": [
    "numbers = re.compile('[0-9]')\n",
    "punctuation += '\\n—–- «»\\'\\\"'"
   ]
  },
  {
   "cell_type": "code",
   "execution_count": 3,
   "metadata": {},
   "outputs": [],
   "source": [
    "def read_data(filename):\n",
    "    \"\"\"Reads the given file and creates a generator object returning one line at a time split by tabulation\"\"\"\n",
    "    data = pd.read_excel(filename)\n",
    "    return data"
   ]
  },
  {
   "cell_type": "code",
   "execution_count": 4,
   "metadata": {
    "collapsed": true
   },
   "outputs": [],
   "source": [
    "with open('.\\expectations_meter\\english_stopwords.txt', 'r', encoding='utf-8') as f:\n",
    "    stopwords = [word.strip() for word in f.readlines()]\n",
    "\n",
    "lemmatizer = WordNetLemmatizer()\n",
    "\n",
    "def lemmatize(text):\n",
    "    return [lemmatizer.lemmatize(word).lower() for word in nltk.word_tokenize(text) \n",
    "            if word not in stopwords + list(punctuation) and numbers.search(word) is None\n",
    "            and word not in [\"''\", ' ', '``', '', \"'s\"]\n",
    "            ]\n",
    "\n",
    "def preprocess(text):\n",
    "    # sentences = nltk.sent_tokenize(text)\n",
    "    tokens = lemmatize(text.replace('\\n', ' '))\n",
    "    # [tokens.extend(lemmatize(sent)) for sent in sentences]\n",
    "    return tokens"
   ]
  },
  {
   "cell_type": "code",
   "execution_count": 5,
   "metadata": {},
   "outputs": [],
   "source": [
    "def get_corpus(filename):\n",
    "    # data = read_data(filename).iloc[:1000]\n",
    "    data = read_data(filename)\n",
    "    dates = data['datetime']\n",
    "    # bodies = [preprocess(text) for text in list(data['body']) if not pd.isnull(text)]\n",
    "    # titles = [preprocess(text) for text in list(data['title']) if not pd.isnull(text)]\n",
    "    bodies = []\n",
    "    for index, (title, body, author, datetime) in data.iterrows():\n",
    "        if not pd.isnull(body):\n",
    "            bodies.append(preprocess(body))\n",
    "    return bodies, dates"
   ]
  },
  {
   "cell_type": "code",
   "execution_count": 29,
   "metadata": {},
   "outputs": [],
   "source": [
    "def get_dates(filename):\n",
    "    data = read_data(filename)\n",
    "    dates = data['datetime']\n",
    "    return dates"
   ]
  },
  {
   "cell_type": "code",
   "execution_count": 56,
   "metadata": {},
   "outputs": [],
   "source": [
    "macrumors_dates, macrumors_titles, macrumors_bodies = get_corpus('.\\expectations_meter\\DATA\\MacRummors.xlsx')\n",
    "# appleinsider_data = get_corpus('.\\expectations_meter\\DATA\\AppleInsider.xlsx')\n",
    "# nineto5mac_data = get_corpus('.\\expectations_meter\\DATA\\\\NineToFiveMac.xlsx')"
   ]
  },
  {
   "cell_type": "code",
   "execution_count": 6,
   "metadata": {},
   "outputs": [],
   "source": [
    "def perplexity(model, corpus):\n",
    "    \"\"\"Calculates perpelexity of the given model on a given corpus of bow texts\"\"\"\n",
    "    corpus_length = 0\n",
    "    log_likelihood = 0\n",
    "    topic_profiles = model.state.get_lambda() / np.sum(model.state.get_lambda(), axis=1)[:, np.newaxis]\n",
    "    for document in corpus:\n",
    "        gamma, _ = model.inference([document])\n",
    "        document_profile = gamma / np.sum(gamma)\n",
    "        for term_id, term_count in document:\n",
    "            corpus_length += term_count\n",
    "            term_probability = np.dot(document_profile, topic_profiles[:, term_id])\n",
    "            log_likelihood += term_count * log(term_probability)\n",
    "    perplexity = np.exp(-log_likelihood / corpus_length)\n",
    "    return perplexity"
   ]
  },
  {
   "cell_type": "code",
   "execution_count": 7,
   "metadata": {
    "collapsed": true
   },
   "outputs": [],
   "source": [
    "def make_dictionary_bow(texts):\n",
    "    dictionary = corpora.Dictionary(texts)\n",
    "    dictionary.filter_extremes(no_below=20, no_above=0.5, keep_n=None)\n",
    "    print(dictionary)\n",
    "    bow_texts = [dictionary.doc2bow(text) for text in texts]\n",
    "    return  dictionary, bow_texts\n",
    "    \n",
    "def make_model(dictionary, bow_texts):\n",
    "    \"\"\"\n",
    "    Reads the file with the given filename and creates training data, than trains the lda model and returns\n",
    "    the model itself, array with dates and array with bow texts \n",
    "    \"\"\"\n",
    "   \n",
    "    start = datetime.now()\n",
    "    model = models.ldamodel.LdaModel(bow_texts, \n",
    "                                     id2word=dictionary, \n",
    "                                     num_topics=400, \n",
    "                                     chunksize=500, \n",
    "                                     update_every=5, \n",
    "                                     passes=10)\n",
    "    print('Evaluation time: {}'.format((datetime.now() - start) / 60))\n",
    "    print('Perplexity: {}'.format(perplexity(model, bow_texts)))\n",
    "    return model"
   ]
  },
  {
   "cell_type": "code",
   "execution_count": 8,
   "metadata": {
    "collapsed": true
   },
   "outputs": [],
   "source": [
    "def count_topics_by_date(model, dates, bow_texts, threshold):\n",
    "    \"\"\"\n",
    "    Counts the number of times each topic from a given model occurred in each of the bow_texts with corresponding \n",
    "    dates from the dates array.\n",
    "    \"\"\"\n",
    "    counts = defaultdict(lambda: defaultdict(int))\n",
    "    for date, document in zip(dates[1:], bow_texts[1:]):\n",
    "        if not len(document) == 0:\n",
    "            topics = model.get_document_topics(document, minimum_probability=threshold)\n",
    "            for topic, prob in topics:\n",
    "                counts[date][topic] += 1\n",
    "    return counts"
   ]
  },
  {
   "cell_type": "code",
   "execution_count": 9,
   "metadata": {
    "collapsed": true
   },
   "outputs": [],
   "source": [
    "def count_topics(counts_by_date):\n",
    "    \"\"\"Counts the overall distribution of topics\"\"\"\n",
    "    counts = defaultdict(int)\n",
    "    for date, topics in counts_by_date.items():\n",
    "        for topic, count in topics.items():\n",
    "            counts[topic] += count\n",
    "    return sorted(counts.items(), key=lambda x: -x[1])"
   ]
  },
  {
   "cell_type": "code",
   "execution_count": 12,
   "metadata": {
    "collapsed": false
   },
   "outputs": [
    {
     "name": "stdout",
     "output_type": "stream",
     "text": [
      "Dictionary(11007 unique tokens: ['term', 'incurring', 'joy', 'alter', 'fight']...)\n"
     ]
    },
    {
     "name": "stdout",
     "output_type": "stream",
     "text": [
      "Evaluation time: 0:01:50.063612\n"
     ]
    },
    {
     "name": "stdout",
     "output_type": "stream",
     "text": [
      "Perplexity: 870.1238689470717\n"
     ]
    },
    {
     "name": "stdout",
     "output_type": "stream",
     "text": [
      "Dictionary(6526 unique tokens: ['term', 'package', 'index', 'joy', 'alter']...)\n"
     ]
    },
    {
     "name": "stdout",
     "output_type": "stream",
     "text": [
      "Evaluation time: 0:00:51.515913\n"
     ]
    },
    {
     "name": "stdout",
     "output_type": "stream",
     "text": [
      "Perplexity: 783.0925089464627\n"
     ]
    }
   ],
   "source": [
    "# model, dates, titles, bow_texts = get_data_n_model(macrumors_dates, macrumors_titles, macrumors_bodies)\n",
    "# date_counts1 = count_topics_by_date(model, dates, bow_texts, 0.04)\n",
    "# sorted_counts1 = count_topics(date_counts)\n",
    "\n",
    "# model2, dates2, titles2, bow_texts2 = get_data_n_model(macrumors_dates, macrumors_titles, macrumors_bodies)\n",
    "# date_counts2 = count_topics_by_date(model2, dates2, bow_texts2, 0.04)\n",
    "# sorted_counts2 = count_topics(date_counts2)\n",
    "app_ins_bodies, app_ins_dates = get_corpus('.\\expectations_meter\\DATA\\AppleInsider.xlsx')\n",
    "app_ins_dict, app_ins_bow = make_dictionary_bow(app_ins_bodies)\n",
    "app_ins_model = make_model(app_ins_dict, app_ins_bow)\n",
    "app_ins_date_counts = count_topics_by_date(app_ins_model, app_ins_dates, app_ins_bow, 0.04)\n",
    "app_ins_sorted_counts= count_topics(app_ins_date_counts)\n",
    "\n",
    "nfm_bodies, nfm_dates = get_corpus('.\\expectations_meter\\DATA\\\\NineToFiveMac.xlsx')\n",
    "nfm_dict, nfm_bow = make_dictionary_bow(nfm_bodies)\n",
    "nfm_model = make_model(nfm_dict, nfm_bow)\n",
    "nfm_date_counts = count_topics_by_date(nfm_model, nfm_dates, nfm_bow, 0.04)\n",
    "nfm_sorted_counts= count_topics(nfm_date_counts)\n",
    "\n",
    "\n",
    "# model2, dates2, bow_texts2 = get_data_n_model('/home/dmitri/SAS/myfolders/task/second/2_prodengi.csv')"
   ]
  },
  {
   "cell_type": "code",
   "execution_count": null,
   "metadata": {},
   "outputs": [],
   "source": [
    ""
   ]
  },
  {
   "cell_type": "code",
   "execution_count": 109,
   "metadata": {},
   "outputs": [],
   "source": [
    "# model2.save('400_topics.model')\n",
    "import json\n",
    "with open('bow_texts_macrummors.json', 'w', encoding='utf-8') as f:\n",
    "    f.write(json.dumps(bow_texts2, ensure_ascii=False))"
   ]
  },
  {
   "cell_type": "code",
   "execution_count": 14,
   "metadata": {},
   "outputs": [],
   "source": [
    "def write_to_file(filename, topics_terms):\n",
    "    with open(filename, 'w', encoding='utf-8') as f:\n",
    "        for topic, count, terms in topics_terms:\n",
    "            f.write(\"<{}> --> {}: [{}]\\n\".format(topic, count, terms))"
   ]
  },
  {
   "cell_type": "code",
   "execution_count": 24,
   "metadata": {},
   "outputs": [],
   "source": [
    "def load_bow(filename):\n",
    "    with open(filename, 'r', encoding='utf-8') as f:\n",
    "         return json.loads(f.read())"
   ]
  },
  {
   "cell_type": "code",
   "execution_count": 31,
   "metadata": {},
   "outputs": [],
   "source": [
    "app_ins_model = models.LdaModel.load('.\\\\expectations_meter\\\\topic_models\\\\models\\\\app_ins_400_model.model')\n",
    "app_ins_dict = corpora.Dictionary.load('.\\\\expectations_meter\\\\topic_models\\\\dicts\\\\app_ins_dict.dict')\n",
    "app_ins_bow = load_bow('.\\\\expectations_meter\\\\topic_models\\\\bows\\\\app_ins_bow.json')"
   ]
  },
  {
   "cell_type": "code",
   "execution_count": 32,
   "metadata": {},
   "outputs": [],
   "source": [
    "app_ins_dates = get_dates('.\\expectations_meter\\DATA\\AppleInsider.xlsx')"
   ]
  },
  {
   "cell_type": "code",
   "execution_count": 35,
   "metadata": {},
   "outputs": [],
   "source": [
    "app_ins_date_counts = count_topics_by_date(app_ins_model, app_ins_dates, app_ins_bow, 0.04)\n",
    "# app_ins_sorted_counts= count_topics(app_ins_date_counts)"
   ]
  },
  {
   "cell_type": "code",
   "execution_count": 28,
   "metadata": {
    "collapsed": true
   },
   "outputs": [],
   "source": [
    "def topics_words(model, sorted_counts, topics_number, words_number):\n",
    "    terms = []\n",
    "    for topic, count in sorted_counts[:topics_number]:\n",
    "        most_frequent_words = model.show_topic(topic, words_number)\n",
    "        terms.append([topic, count, ', '.join([word for word, prob in most_frequent_words])])\n",
    "    return terms"
   ]
  },
  {
   "cell_type": "code",
   "execution_count": 18,
   "metadata": {
    "collapsed": false
   },
   "outputs": [
    {
     "name": "stdout",
     "output_type": "stream",
     "text": [
      "[[360, 4723, 'report, would, source, could, reportedly, been, claim, rumor, according, claimed'],\n [270, 3423, \"n't, do, can, doe, it, 're, like, one, make, work\"],\n [208, 3041, 'app, store, ios, user, free, developer, download, can, apps, available'],\n [85, 2994, \"cook, i, tim, ceo, we, about, do, n't, executive, people\"],\n [378, 2503, 'ios, device, feature, user, system, ipad, mobile, release, running, operating'],\n [18, 2147, 'could, would, year, likely, current, next, belief, may, model, factor'],\n [254, 2071, 'launch, day, week, friday, first, sale, availability, store, preorders, sold'],\n [229, 2048, 'support, version, update, updated, feature, addition, improvement, latest, added, add'],\n [212, 2043, 'next-generation, expected, rumored, part, device, component, handset, rumor, could, current'],\n [249, 1881, 'production, supply, report, supplier, chain, order, expected, launch, source, digitimes'],\n [219, 1868, 'sale, million, quarter, percent, unit, year, market, shipment, sold, share'],\n [274, 1746, 'billion, investment, business, deal, year, market, firm, would, could, maker'],\n [84, 1705, 'ipad, tablet, ipads, device, third-generation, last, march, first-generation, first, touchscreen'],\n [16, 1657, 'billion, quarter, revenue, percent, year, sale, earnings, million, profit, fiscal'],\n [100, 1626, 'model, price, offering, pricing, available, priced, option, offer, throw, out'],\n [374, 1584, 'analyst, million, belief, quarter, investor, year, sale, he, price, see'],\n [252, 1542, 'product, demand, sale, market, about, we, consumer, opportunity, customer, been'],\n [261, 1516, 'order, online, customer, shipping, delivery, time, ship, available, day, purchase'],\n [170, 1513, 'problem, issue, user, after, number, were, been, affected, one, support'],\n [390, 1481, 'court, judge, case, ruling, against, decision, appeal, trial, motion, injunction'],\n [255, 1457, 'event, sept., week, expected, medium, next, launch, announcement, wednesday, date'],\n [103, 1446, 'percent, share, android, device, month, up, according, report, data, u.s.'],\n [139, 1443, 'plan, per, month, customer, service, free, data, fee, offer, unlimited'],\n [381, 1428, 'os, x, mac, lion, system, operating, release, version, macs, running'],\n [34, 1414, 'million, year, number, month, day, last, average, since, per, reached'],\n [399, 1403, 'update, issue, fix, software, bug, released, when, release, version, download'],\n [230, 1390, 'jobs, steve, co-founder, executive, chief, ceo, late, after, had, year'],\n [83, 1361, \"google, android, platform, search, mobile, device, user, system, operating, n't\"],\n [138, 1355, 'store, retail, location, stores, outlet, open, product, customer, opening, brick-and-mortar'],\n [14, 1354, 'data, user, information, location, can, device, access, service, find, stored'],\n [175, 1349, 'can, sensor, system, example, device, user, as, when, embodiment, for'],\n [154, 1291, \"even, n't, that, were, sell, year, sale, had, selling, phone\"],\n [166, 1271, 'design, show, leak, device, photo, button, model, back, image, appears'],\n [136, 1228, 'conference, wwdc, june, worldwide, developers, year, p.m., keynote, pacific, event'],\n [89, 1210, 'home, device, control, user, can, remote, lock, app, connected, switch'],\n [257, 1162, 'team, job, position, role, working, product, former, engineering, work, head'],\n [48, 1141, 'beta, developer, build, release, public, software, week, testing, first, update'],\n [200, 1128, 'carrier, mobile, handset, wireless, iphones, subscriber, smartphone, million, customer, device'],\n [123, 1115, 'device, application, would, could, user, patent, filing, system, describes, invention'],\n [64, 1068, 'market, share, idc, smartphone, growth, device, research, vendor, firm, mobile'],\n [21, 1001, 'music, service, streaming, itunes, like, subscription, subscriber, content, song, free'],\n [273, 997, 'camera, image, photo, lens, photos, capture, video, feature, picture, shot'],\n [225, 979, 'itunes, content, user, store, song, music, library, available, medium, can'],\n [11, 973, 'year, last, us, android, despite, being, high, two, end, base'],\n [364, 973, 'mobile, support, platform, open, developer, using, use, standard, web, hardware'],\n [260, 924, 'app, calendar, view, can, ios, quick, user, tapping, feature, screen'],\n [359, 924, 'design, when, out, one, two, we, feel, side, up, come'],\n [113, 912, 'display, screen, retina, pixel, resolution, inch, size, larger, smaller, higher'],\n [79, 908, 'macos, user, mac, system, machine, can, install, time, software, installed'],\n [91, 878, 'samsung, korean, smartphone, flagship, phone, smartphones, product, device, mobile, note'],\n [272, 875, 'pro, macbook, model, laptop, pros, machine, appleinsider, notebook, line, latest'],\n [398, 874, 'tv, content, box, streaming, cable, service, set-top, show, provider, like'],\n [56, 821, 'technology, tech, industry, firm, group, product, fair, use, including, standard'],\n [110, 770, 'country, u.s., canada, u.k., germany, australia, france, prime, japan, italy'],\n [332, 770, 'ram, processor, gigabyte, storage, memory, model, faster, capacity, cpu, feature'],\n [6, 767, 'vehicle, system, driver, support, auto, unit, driving, can, technology, like'],\n [94, 747, 'patent, property, u.s., uspto, invention, granted, intellectual, system, no, office'],\n [295, 736, 'activity, heart, monitor, device, rate, time, can, user, data, tracking'],\n [353, 736, 'touch, input, user, key, gesture, sensor, screen, finger, surface, display'],\n [39, 735, 'security, attack, user, exploit, vulnerability, code, researcher, device, flaw, secure'],\n [280, 734, 'encryption, agency, law, statement, investigation, surveillance, authority, warrant, encrypted, supreme'],\n [292, 714, 'tablet, device, hp, surface, pc, ipad, market, dell, maker, slate'],\n [41, 709, 'feature, user, support, notes, sharing, apps, vip, mail, including, below'],\n [19, 701, 'project, campus, facility, building, cupertino, headquarters, vr, plan, development, office'],\n [326, 699, 'data, government, privacy, fbi, security, request, information, policy, access, would'],\n [393, 698, 'at, t, carrier, customer, verizon, wireless, u.s., when, network, launch'],\n [277, 684, 'kuo, model, lineup, analyst, ming-chi, year, expected, appleinsider, expects, launch'],\n [134, 683, 'email, document, account, user, can, mail, service, access, gmail, link'],\n [202, 656, 'error, issue, crash, after, failure, attempting, were, people, problem, unable'],\n [44, 651, 'china, chinese, hong, country, kong, market, world, telecom, mobile, mainland'],\n [391, 649, 'free, price, discount, deal, shipping, guide, lowest, can, authorized, sale'],\n [189, 634, 'htc, legal, maker, battle, ban, dispute, against, lawsuit, ongoing, two'],\n [224, 633, 'microsoft, windows, surface, software, platform, ballmer, market, operating, system, zune'],\n [341, 630, 'intel, processor, core, bridge, chip, mac, notebook, line, macbook, desktop'],\n [319, 629, 'watch, sport, subscribe, device, edition, auction, april, style, starting, today'],\n [82, 626, 'button, tap, can, click, right, screen, up, down, left, press'],\n [150, 625, 'interview, had, were, police, incident, man, after, down, post, people'],\n [299, 624, 'smart, text, can, user, section, option, like, slide, selection, viewing'],\n [247, 623, 'pay, payment, nfc, transaction, support, service, mobile, card, wallet, system'],\n [68, 615, 'country, india, government, u.s., national, local, ireland, uk, international, foreign'],\n [78, 601, 'percent, survey, found, consumer, were, owner, buyer, user, customer, buy'],\n [372, 591, 'lawsuit, class, suit, action, claim, california, complaint, plaintiff, filed, law'],\n [59, 587, 'million, fund, filing, worth, last, paid, were, u.s., money, restricted'],\n [120, 582, 'foxconn, manufacturing, plant, factory, partner, production, el, china, manufacturer, product'],\n [105, 580, 'business, enterprise, device, corporate, management, ipads, mobile, customer, deployment, it'],\n [256, 569, 'patent, complaint, against, paypal, filed, lawsuit, itc, royalty, suit, licensing'],\n [213, 560, 'application, software, ecosystem, store, hardware, but, ipad, device, platform, and'],\n [20, 547, 'network, lte, speed, data, modem, service, support, wireless, mobile, carrier'],\n [365, 547, 'display, panel, oled, lcd, sharp, technology, screen, flexible, supplier, amoled'],\n [317, 544, 'usb, port, support, external, power, displayport, speed, hdmi, device, card'],\n [282, 543, 'web, safari, search, page, site, website, browser, content, link, result'],\n [324, 540, 'siri, voice, assistant, search, command, feature, user, integration, ai, iii'],\n [244, 520, 'tool, developer, development, create, software, interactive, platform, creating, sdk, project'],\n [308, 518, 'ipod, touch, nano, device, ipods, outage, shuffle, player, classic, medium'],\n [242, 514, 'facebook, social, user, sharing, post, friend, network, share, service, people'],\n [13, 513, 'bill, would, u.s., proposed, fcc, communications, consumer, regulation, federal, rule'],\n [133, 505, 'square, construction, foot, building, space, site, west, structure, below, two'],\n [321, 494, 'mac, pc, macs, windows, desktop, pcs, notebook, computer, laptop, mid'],\n [66, 493, 'patent, damage, million, jury, trial, infringement, u.s., court, suit, district'],\n [358, 492, 'album, artist, star, fan, exclusive, jackson, pop, release, universal, music'],\n [26, 486, 'chip, processor, qualcomm, arm, custom, power, design, mobile, intel, architecture'],\n [322, 471, 'city, york, bond, avenue, fifth, glass, california, jose, completed, iconic'],\n [43, 459, 'game, control, like, play, dedicated, games, well, can, make, different'],\n [187, 458, 'credit, card, id, account, password, purchase, number, debit, first, visa'],\n [162, 455, 'best, buy, retailer, week, spotted, inventory, appleinsider, product, variant, sale'],\n [227, 450, 'had, decade, year, computing, next, computer, software, mac, product, development'],\n [169, 448, 'saving, macbook, applecare, pro, mac, pros, price, code, macmall, airs'],\n [385, 444, 'blackberry, rim, smartphone, palm, mobile, device, platform, smartphones, android, webos'],\n [37, 435, 'maps, map, google, ios, mapping, data, service, location, direction, view'],\n [248, 421, 'top, brand, place, year, second, category, among, out, spot, took'],\n [368, 408, 'share, billion, cash, dividend, buyback, stock, capital, shareholder, return, investor'],\n [376, 395, 'board, meeting, proposal, member, director, shareholder, ceo, vote, executive, campbell'],\n [65, 389, 'ibm, partnership, swift, tracker, initiative, technology, hired, development, research, announced'],\n [148, 389, 'battery, life, power, hour, charge, charger, pack, charging, smoke, longer'],\n [194, 385, 'verizon, cdma, network, carrier, gsm, phone, wireless, would, handset, u.s.'],\n [233, 385, 'headphone, wireless, jack, audio, plug, microphone, bluetooth, device, stereo, mic'],\n [283, 377, 'series, ad, campaign, commercial, spot, first, latest, feature, tv, show'],\n [275, 369, 'employee, loop, staff, training, genius, johnson, appointment, retail, one, change'],\n [0, 365, 'galaxy, note, tab, s, device, sale, nexus, electronics, edge, handset'],\n [315, 365, 'color, white, black, option, version, bass, available, come, look, green'],\n [172, 362, 'stock, share, price, trading, aapl, securities, refurbished, after, exchange, unit'],\n [204, 359, 'glass, advanced, curved, gt, material, cover, edge, screen, scratch, use'],\n [77, 345, 'game, title, play, steam, player, available, mac, gaming, valve, run'],\n [352, 343, 'performance, test, faster, core, testing, score, benchmark, speed, time, result'],\n [290, 337, 'phone, nokia, mobile, smartphone, handset, smartphones, crown, device, craig, feature'],\n [235, 333, 'appleinsider, show, podcast, u, follow, week, news, can, available, below'],\n [388, 325, 'up, gift, value, trade-in, old, cash, can, msrp, device, condition'],\n [174, 319, 'won, hearing, argument, handed, verdict, denied, ruled, trillion, south, mirroring'],\n [276, 312, 'amazon, kindle, leather, device, retailer, online, amazon.com, market, price, tablet'],\n [370, 309, 'air, macbook, notebook, lineup, e-commerce, thinner, model, ultraportable, latest, portable'],\n [223, 308, 'cable, charging, connector, adapter, dock, power, magnetic, port, usb, connection'],\n [217, 306, 'design, ive, designer, fashion, product, jony, industrial, aesthetic, designed, chief'],\n [29, 299, 'outside, ny, nj, b, h, promo, shipped, pros, ac, sale'],\n [349, 299, 'worker, gear, supplier, report, hiring, working, labor, human, were, safety'],\n [186, 292, 'union, federal, european, commission, letter, eu, fine, investigation, competition, state'],\n [298, 290, 'ad, advertising, iad, mobile, advertisement, advertiser, network, revenue, content, placement'],\n [125, 276, 'message, text, messages, send, sent, messaging, contact, number, reply, phone'],\n [361, 273, 'accessory, third-party, iwatch, product, device, cover, maker, compatible, made, connected'],\n [95, 271, 'option, icon, menu, item, interface, window, setting, folder, preview, default'],\n [127, 270, 'video, youtube, playback, content, format, quality, codec, free, audio, quicktime'],\n [135, 270, 'publisher, price, e-book, content, book, ibookstore, diversity, model, e-books, ibooks'],\n [1, 267, 'repair, water, replacement, dropbox, service, warranty, damage, dot, liquid, device'],\n [5, 267, 'president, vice, marketing, schiller, senior, phil, executive, expert, worldwide, trust'],\n [395, 258, 'sprint, unlocked, carrier, verizon, t-mobile, u.s., gsm, t, at, wireless'],\n [355, 257, 'study, r, usage, d, research, metric, statistic, browsing, web, tracked'],\n [373, 256, 'notification, push, alert, widget, weather, center, user, instant, can, gradually'],\n [31, 254, 'apps, app, winner, guideline, developer, title, bundle, category, review, rejected'],\n [45, 249, 'audio, sound, volume, noise, quality, recording, microphone, ear, music, listening'],\n [330, 245, 'sony, gaming, game, nintendo, console, xbox, playstation, device, portable, mobile'],\n [130, 241, 'acquisition, purchase, acquired, deal, million, purchased, acquire, buy, firm, takeover']]\n"
     ]
    }
   ],
   "source": [
    "terms = topics_words(app_ins_model, app_ins_sorted_counts, 150, 10)\n",
    "# write_to_file('app_ins_model_400_topics.txt', terms)\n",
    "pp(terms, width=500)\n",
    "# pp(best_topics1, width=500)\n",
    "# pandas.DataFrame(best_topics1)"
   ]
  }
 ],
 "metadata": {
  "kernelspec": {
   "display_name": "Python 3",
   "language": "python",
   "name": "python3"
  },
  "language_info": {
   "codemirror_mode": {
    "name": "ipython",
    "version": 3.0
   },
   "file_extension": ".py",
   "mimetype": "text/x-python",
   "name": "python",
   "nbconvert_exporter": "python",
   "pygments_lexer": "ipython3",
   "version": "3.5.1"
  }
 },
 "nbformat": 4,
 "nbformat_minor": 0
}