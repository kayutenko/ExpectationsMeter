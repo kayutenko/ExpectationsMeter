{
 "cells": [
  {
   "cell_type": "code",
   "execution_count": 134,
   "metadata": {
    "collapsed": true
   },
   "outputs": [],
   "source": [
    "import json\n",
    "import pickle\n",
    "from pprint import pprint as pp\n",
    "from collections import defaultdict as dd, OrderedDict as od\n",
    "import re"
   ]
  },
  {
   "cell_type": "code",
   "execution_count": 135,
   "metadata": {
    "collapsed": false
   },
   "outputs": [],
   "source": [
    "with open('product_attributes_taxonomy.txt', 'r', encoding='utf-8') as f:\n",
    "    taxonomy_text = f.read()"
   ]
  },
  {
   "cell_type": "code",
   "execution_count": 175,
   "metadata": {
    "collapsed": false
   },
   "outputs": [
    {
     "name": "stdout",
     "output_type": "stream",
     "text": [
      "OrderedDict([(('screen',), ['SCREEN']),\n",
      "             (('display',), ['SCREEN']),\n",
      "             (('type',), ['SCREEN', 'DISPLAY']),\n",
      "             (('led',), ['SCREEN', 'DISPLAY', 'TYPE']),\n",
      "             (('oled',), ['SCREEN', 'DISPLAY', 'TYPE', 'LED']),\n",
      "             (('lcd',), ['SCREEN', 'DISPLAY', 'TYPE']),\n",
      "             (('tft',), ['SCREEN', 'DISPLAY', 'TYPE', 'LCD']),\n",
      "             (('ips',), ['SCREEN', 'DISPLAY', 'TYPE', 'LCD']),\n",
      "             (('resolution',), ['SCREEN', 'DISPLAY']),\n",
      "             (('960x640',), ['SCREEN', 'DISPLAY', 'RESOLUTION']),\n",
      "             (('1136x640',), ['SCREEN', 'DISPLAY', 'RESOLUTION']),\n",
      "             (('1335x750',), ['SCREEN', 'DISPLAY', 'RESOLUTION']),\n",
      "             (('1920x1080',), ['SCREEN', 'DISPLAY', 'RESOLUTION']),\n",
      "             (('1048x768',), ['SCREEN', 'DISPLAY', 'RESOLUTION']),\n",
      "             (('2048x1535',), ['SCREEN', 'DISPLAY', 'RESOLUTION']),\n",
      "             (('inch', 'size'), ['SCREEN', 'DISPLAY']),\n",
      "             (('3,5',), ['SCREEN', 'DISPLAY', 'INCH-SIZE']),\n",
      "             (('4',), ['SPECS', 'MEMORY', 'CAPACITY']),\n",
      "             (('4.7',), ['SCREEN', 'DISPLAY', 'INCH-SIZE']),\n",
      "             (('5.5',), ['SCREEN', 'DISPLAY', 'INCH-SIZE']),\n",
      "             (('pixel', 'density'), ['SCREEN', 'DISPLAY']),\n",
      "             (('ppi',), ['SCREEN', 'DISPLAY', 'PIXEL-DENSITY']),\n",
      "             (('330',), ['SCREEN', 'DISPLAY', 'PIXEL-DENSITY']),\n",
      "             (('400',), ['SCREEN', 'DISPLAY', 'PIXEL-DENSITY']),\n",
      "             (('160',), ['SCREEN', 'DISPLAY', 'PIXEL-DENSITY']),\n",
      "             (('pixel', 'matrix', 'type'), ['SCREEN', 'DISPLAY']),\n",
      "             (('pentile',), ['SCREEN', 'DISPLAY', 'PIXEL-MATRIX-TYPE']),\n",
      "             (('stripe',), ['SCREEN', 'DISPLAY', 'PIXEL-MATRIX-TYPE']),\n",
      "             (('aspect', 'ratio'), ['SCREEN', 'DISPLAY']),\n",
      "             (('16:9',), ['SCREEN', 'DISPLAY', 'ASPECT-RATIO']),\n",
      "             (('16:10',), ['SCREEN', 'DISPLAY', 'ASPECT-RATIO']),\n",
      "             (('4:3',), ['SCREEN', 'DISPLAY', 'ASPECT-RATIO']),\n",
      "             (('3:2',), ['SCREEN', 'DISPLAY', 'ASPECT-RATIO']),\n",
      "             (('brightness',), ['SCREEN', 'DISPLAY']),\n",
      "             (('screen', 'glass'), ['SCREEN']),\n",
      "             (('tempered', 'glass'), ['SCREEN', 'SCREEN-GLASS']),\n",
      "             (('gorilla', 'glass', '1'),\n",
      "              ['SCREEN', 'SCREEN-GLASS', 'TEMPERED-GLASS']),\n",
      "             (('gorilla', 'glass', '2'),\n",
      "              ['SCREEN', 'SCREEN-GLASS', 'TEMPERED-GLASS']),\n",
      "             (('gorilla', 'glass', '3'),\n",
      "              ['SCREEN', 'SCREEN-GLASS', 'TEMPERED-GLASS']),\n",
      "             (('gorilla', 'glass', '4'),\n",
      "              ['SCREEN', 'SCREEN-GLASS', 'TEMPERED-GLASS']),\n",
      "             (('sapphire', 'glass'), ['SCREEN', 'SCREEN-GLASS']),\n",
      "             (('battery',), ['BATTERY']),\n",
      "             (('battery', 'capacity'), ['BATTERY']),\n",
      "             (('battery', 'life'), ['BATTERY']),\n",
      "             (('battery', 'drain'), ['BATTERY']),\n",
      "             (('battery', 'consumption'), ['BATTERY']),\n",
      "             (('specs',), ['SPECS']),\n",
      "             (('cpu',), ['SPECS']),\n",
      "             (('cores',), ['SPECS', 'CPU']),\n",
      "             (('frequency',), ['SPECS', 'GPU']),\n",
      "             (('gpu',), ['SPECS']),\n",
      "             (('ram',), ['SPECS']),\n",
      "             (('size',), ['SPECS', 'MEMORY']),\n",
      "             (('speed',), ['PERFOMANCE']),\n",
      "             (('memory',), ['SPECS']),\n",
      "             (('capacity',), ['SPECS', 'MEMORY']),\n",
      "             (('8',), ['SPECS', 'MEMORY', 'CAPACITY']),\n",
      "             (('16',), ['SPECS', 'MEMORY', 'CAPACITY']),\n",
      "             (('32',), ['SPECS', 'MEMORY', 'CAPACITY']),\n",
      "             (('64',), ['SPECS', 'MEMORY', 'CAPACITY']),\n",
      "             (('design',), ['SOFTWARE']),\n",
      "             (('color',), ['CAMERA', 'PICTURE-QUALITY']),\n",
      "             (('material',), ['DESIGN']),\n",
      "             (('glass',), ['DESIGN', 'MATERIAL']),\n",
      "             (('aluminum',), ['DESIGN', 'MATERIAL']),\n",
      "             (('magnesium',), ['DESIGN', 'MATERIAL']),\n",
      "             (('plastic',), ['DESIGN', 'MATERIAL']),\n",
      "             (('ceramic',), ['DESIGN', 'MATERIAL']),\n",
      "             (('steel',), ['DESIGN', 'MATERIAL']),\n",
      "             (('build', 'quality'), ['DESIGN']),\n",
      "             (('durability',), ['DESIGN']),\n",
      "             (('water', 'resistance'), ['DESIGN']),\n",
      "             (('ip67',), ['DESIGN', 'DUST-RESISTANCE']),\n",
      "             (('ip68',), ['DESIGN', 'DUST-RESISTANCE']),\n",
      "             (('splash',), ['DESIGN', 'WATER-RESISTANCE']),\n",
      "             (('dust', 'resistance'), ['DESIGN']),\n",
      "             (('camera',), ['CAMERA']),\n",
      "             (('sensor',), ['CAMERA']),\n",
      "             (('megapixels',), ['CAMERA', 'SENSOR']),\n",
      "             (('maximum', 'picture', 'resolution'), ['CAMERA', 'SENSOR']),\n",
      "             (('maximum', 'video', 'resolution'), ['CAMERA', 'SENSOR']),\n",
      "             (('140p',), ['CAMERA', 'SENSOR', 'MAXIMUM-VIDEO-RESOLUTION']),\n",
      "             (('320p',), ['CAMERA', 'SENSOR', 'MAXIMUM-VIDEO-RESOLUTION']),\n",
      "             (('480p',), ['CAMERA', 'SENSOR', 'MAXIMUM-VIDEO-RESOLUTION']),\n",
      "             (('720p',), ['CAMERA', 'SENSOR', 'MAXIMUM-VIDEO-RESOLUTION']),\n",
      "             (('1080p',), ['CAMERA', 'SENSOR', 'MAXIMUM-VIDEO-RESOLUTION']),\n",
      "             (('4k',), ['CAMERA', 'SENSOR', 'MAXIMUM-VIDEO-RESOLUTION']),\n",
      "             (('5k',), ['CAMERA', 'SENSOR', 'MAXIMUM-VIDEO-RESOLUTION']),\n",
      "             (('lens',), ['CAMERA', 'SENSOR']),\n",
      "             (('auto', 'focus'), ['CAMERA', 'SENSOR']),\n",
      "             (('optical', 'image', 'stabilization'), ['CAMERA', 'SENSOR']),\n",
      "             (('ois',), ['CAMERA', 'SENSOR', 'OPTICAL-IMAGE-STABILIZATION']),\n",
      "             (('software', 'image', 'stabilization'), ['CAMERA', 'SENSOR']),\n",
      "             (('aperture',), ['CAMERA', 'SENSOR']),\n",
      "             (('light', 'sensibility'), ['CAMERA', 'SENSOR']),\n",
      "             (('shutter', 'speed'), ['CAMERA', 'SENSOR']),\n",
      "             (('flash',), ['CAMERA', 'SENSOR']),\n",
      "             (('tone',), ['CAMERA', 'SENSOR', 'FLASH']),\n",
      "             (('picture', 'quality'), ['CAMERA']),\n",
      "             (('noise',), ['SOUND']),\n",
      "             (('low', 'light', 'perfomance'), ['CAMERA', 'PICTURE-QUALITY']),\n",
      "             (('white', 'balance'), ['CAMERA', 'PICTURE-QUALITY']),\n",
      "             (('hdr',), ['CAMERA', 'PICTURE-QUALITY']),\n",
      "             (('blur',), ['CAMERA', 'PICTURE-QUALITY']),\n",
      "             (('saturation',), ['CAMERA', 'PICTURE-QUALITY']),\n",
      "             (('artefacts',), ['CAMERA', 'PICTURE-QUALITY']),\n",
      "             (('contrast',), ['CAMERA', 'PICTURE-QUALITY']),\n",
      "             (('sharpness',), ['CAMERA', 'PICTURE-QUALITY']),\n",
      "             (('dynamic', 'range'), ['CAMERA', 'PICTURE-QUALITY']),\n",
      "             (('color', 'accuracy'), ['CAMERA', 'PICTURE-QUALITY']),\n",
      "             (('exposure',), ['CAMERA', 'PICTURE-QUALITY']),\n",
      "             (('sound',), ['SOUND']),\n",
      "             (('bandwidth',), ['SOUND']),\n",
      "             (('speaker', 'placement'), ['SOUND']),\n",
      "             (('stereo',), ['SOUND']),\n",
      "             (('mono',), ['SOUND']),\n",
      "             (('compression',), ['SOUND']),\n",
      "             (('amplifier',), ['SOUND']),\n",
      "             (('sensors',), ['SENSORS']),\n",
      "             (('gyroscope',), ['SENSORS']),\n",
      "             (('accelerometer',), ['SENSORS']),\n",
      "             (('compass',), ['SENSORS']),\n",
      "             (('proximity',), ['SENSORS']),\n",
      "             (('fingerprint',), ['SENSORS']),\n",
      "             (('pressure',), ['SENSORS']),\n",
      "             (('pereferia',), ['PEREFERIA']),\n",
      "             (('software',), ['SOFTWARE']),\n",
      "             (('os',), ['SOFTWARE']),\n",
      "             (('ios',), ['SOFTWARE', 'OS']),\n",
      "             (('update',), ['SOFTWARE']),\n",
      "             (('perfomance',), ['PERFOMANCE']),\n",
      "             (('startup', 'time'), ['PERFOMANCE']),\n",
      "             (('shutdown', 'time'), ['PERFOMANCE']),\n",
      "             (('turn', 'off', 'time'), ['PERFOMANCE', 'SHUTDOWN-TIME']),\n",
      "             (('app', 'launch', 'time'), ['PERFOMANCE']),\n",
      "             (('multitasking',), ['PERFOMANCE']),\n",
      "             (('lag',), ['PERFOMANCE'])])\n"
     ]
    }
   ],
   "source": [
    "taxonomy = od()\n",
    "prev_tab_level = 0\n",
    "parent = ''\n",
    "prev_line = ''\n",
    "path = []\n",
    "for line in taxonomy_text.split('\\n'):\n",
    "    line = line.strip(' ')\n",
    "    tab_level = line.count('\\t')\n",
    "    if tab_level > prev_tab_level:\n",
    "        path.append(parent)    \n",
    "        parent = prev_line.split()[0]\n",
    "    elif tab_level < prev_tab_level:\n",
    "        parent = path[tab_level - prev_tab_level]\n",
    "        path = path[:tab_level - prev_tab_level]\n",
    "    for word in line.strip('\\t').split(' '):\n",
    "        if not tab_level == 0:\n",
    "            taxonomy[tuple(word.lower().split('-'))] = path[1:] + [parent]\n",
    "        else:\n",
    "            taxonomy[tuple(word.lower().split('-'))] = [line.split()[0]]\n",
    "    prev_line = line\n",
    "    prev_tab_level = tab_level\n",
    "pp((taxonomy))"
   ]
  },
  {
   "cell_type": "code",
   "execution_count": 177,
   "metadata": {
    "collapsed": false
   },
   "outputs": [],
   "source": [
    "with open('product_attributes_taxonomy.pickle', 'wb') as f:\n",
    "    f.write(pickle.dumps(taxonomy))"
   ]
  },
  {
   "cell_type": "code",
   "execution_count": 166,
   "metadata": {
    "collapsed": false
   },
   "outputs": [
    {
     "data": {
      "text/plain": [
       "re.compile(r'1048x768|1080p|1136x640|1335x750|140p|16|160|16:10|16:9|1920x1080|2048x1535|3,5|32|320p|330|3:2|4|4.7|400|480p|4:3|4k|5.5|5k|64|720p|8|960x640|accelerometer|aluminum|amplifier|aperture|app[ -]+launch[ -]+time|artefacts|aspect[ -]+ratio|auto[ -]+focus|bandwidth|battery[ -]+capacity|battery[ -]+life|battery[ -]+drain|battery[ -]+consumption|battery|blur|brightness|build[ -]+quality|camera|capacity|ceramic|color[ -]+accuracy|color|compass|compression|contrast|cores|cpu|design|display|durability|dust[ -]+resistance|dynamic[ -]+range|exposure|fingerprint|flash|frequency|glass|gorilla[ -]+glass[ -]+1|gorilla[ -]+glass[ -]+2|gorilla[ -]+glass[ -]+3|gorilla[ -]+glass[ -]+4|gpu|gyroscope|hdr|inch[ -]+size|ios|ip67|ip68|ips|lag|lcd|led|lens|light[ -]+sensibility|low[ -]+light[ -]+perfomance|magnesium|material|maximum[ -]+picture[ -]+resolution|maximum[ -]+video[ -]+resolution|megapixels|memory|mono|multitasking|noise|ois|oled|optical[ -]+image[ -]+stabilization|os|pentile|pereferia|perfomance|picture[ -]+quality|pixel[ -]+matrix[ -]+type|pixel[ -]+density|plastic|ppi|pressure|proximity|ram|resolution|sapphire[ -]+glass|saturation|screen[ -]+glass|screen|sensor|sensors|sharpness|shutdown[ -]+time|shutter[ -]+speed|size|software[ -]+image[ -]+stabilization|software|sound|speaker[ -]+placement|specs|speed|splash|startup[ -]+time|steel|stereo|stripe|tempered[ -]+glass|tft|tone|turn[ -]+off[ -]+time|type|update|water[ -]+resistance|white[ -]+balance',\n",
       "re.UNICODE)"
      ]
     },
     "execution_count": 166,
     "metadata": {},
     "output_type": "execute_result"
    }
   ],
   "source": [
    "def make_regex(taxonomy_dict):\n",
    "    regex = ''\n",
    "    for entry in sorted(taxonomy_dict.keys(), key=lambda x: (x[0], -len(x))):\n",
    "        regex += '[ -]+'.join(entry) + '|'\n",
    "    return re.compile(regex.strip('|'))\n",
    "\n",
    "regex = make_regex(taxonomy)\n",
    "regex\n"
   ]
  },
  {
   "cell_type": "code",
   "execution_count": 172,
   "metadata": {
    "collapsed": false
   },
   "outputs": [
    {
     "data": {
      "text/plain": [
       "['battery life', 'picture quality', 'camera', 'sensor', 'display', 'ppi']"
      ]
     },
     "execution_count": 172,
     "metadata": {},
     "output_type": "execute_result"
    }
   ],
   "source": [
    "regex.findall('The battery life and the picture quality of the camera sensor as well as the display ppi')"
   ]
  },
  {
   "cell_type": "code",
   "execution_count": 176,
   "metadata": {
    "collapsed": false
   },
   "outputs": [
    {
     "data": {
      "text/plain": [
       "[['BATTERY'],\n",
       " ['CAMERA'],\n",
       " ['CAMERA'],\n",
       " ['CAMERA'],\n",
       " ['SCREEN'],\n",
       " ['SCREEN', 'DISPLAY', 'PIXEL-DENSITY']]"
      ]
     },
     "execution_count": 176,
     "metadata": {},
     "output_type": "execute_result"
    }
   ],
   "source": [
    "def get_taxonomy_paths(text, regex, taxonomy):\n",
    "    taxonomy_paths = []\n",
    "    search_results = regex.findall(text)\n",
    "    for sr in search_results:\n",
    "        taxonomy_paths.append(taxonomy[tuple(re.split('[- ]+', sr))])\n",
    "    return taxonomy_paths\n",
    "\n",
    "get_taxonomy_paths('The battery life and the picture quality of the camera sensor as well as the display ppi', regex, taxonomy)"
   ]
  }
 ],
 "metadata": {
  "kernelspec": {
   "display_name": "Python [Root]",
   "language": "python",
   "name": "Python [Root]"
  },
  "language_info": {
   "codemirror_mode": {
    "name": "ipython",
    "version": 3
   },
   "file_extension": ".py",
   "mimetype": "text/x-python",
   "name": "python",
   "nbconvert_exporter": "python",
   "pygments_lexer": "ipython3",
   "version": "3.5.2"
  }
 },
 "nbformat": 4,
 "nbformat_minor": 0
}
